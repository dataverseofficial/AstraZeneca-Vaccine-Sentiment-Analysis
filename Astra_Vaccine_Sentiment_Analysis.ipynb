{
  "nbformat": 4,
  "nbformat_minor": 0,
  "metadata": {
    "colab": {
      "provenance": [],
      "toc_visible": true
    },
    "kernelspec": {
      "name": "python3",
      "display_name": "Python 3"
    },
    "language_info": {
      "name": "python"
    }
  },
  "cells": [
    {
      "cell_type": "markdown",
      "source": [
        "# **Understanding the Dataset**"
      ],
      "metadata": {
        "id": "MwQTMo41qsZv"
      }
    },
    {
      "cell_type": "markdown",
      "source": [
        "This dataset contains tweets with associated sentiment analysis metrics. The data can be used for text mining, natural language processing (NLP), and sentiment analysis projects. The tweets are categorized based on their subjectivity and polarity, allowing for insights into the opinions expressed in relation to various topics or targets. This dataset is particularly valuable for understanding public sentiment on different entities or issues.\n",
        "\n",
        "Text Column: The dataset contains a column named Tweet that holds the text data.\n",
        "\n",
        "Sentiment Labels: The dataset includes a Target column, which provides labeled sentiments (Positive, Neutral, Negative).\n",
        "\n",
        "Since the dataset has sentiment labels, this task will be supervised sentiment analysis, where we validate or predict sentiments using the Tweet text and compare them with the Target labels."
      ],
      "metadata": {
        "id": "TE69qMd5rQcG"
      }
    },
    {
      "cell_type": "markdown",
      "source": [
        "# **Load the Dataset**"
      ],
      "metadata": {
        "id": "faiES_4xrnQ7"
      }
    },
    {
      "cell_type": "code",
      "source": [
        "import pandas as pd\n",
        "\n",
        "# Load the dataset\n",
        "df = pd.read_csv('/content/AstraZeneca Vaccine.csv')  # Or .xlsx, etc.\n",
        "print(df.head())  # Preview the dataset\n",
        "print(df.info())  # Check the structure of the dataset"
      ],
      "metadata": {
        "colab": {
          "base_uri": "https://localhost:8080/"
        },
        "id": "9Q8hcMIZrwdK",
        "outputId": "1fb302ec-77f6-4140-da03-cc0658e4a318"
      },
      "execution_count": 1,
      "outputs": [
        {
          "output_type": "stream",
          "name": "stdout",
          "text": [
            "   id                                              Tweet  Subjectivity  \\\n",
            "0   0  Respiratory syncytial virus, or RSV, is a comm...           0.5   \n",
            "1   1  As pioneers in asthma, we continue to push the...           0.0   \n",
            "2   2  It takes innovation to transform healthcare ex...           0.0   \n",
            "3   3  Every day billions of people are trying to bal...           0.0   \n",
            "4   4  An estimated 37 million people live with chron...           0.5   \n",
            "\n",
            "   Polarity    Target  \n",
            "0 -0.300000  Negative  \n",
            "1  0.000000   Neutral  \n",
            "2  0.000000   Neutral  \n",
            "3  0.000000   Neutral  \n",
            "4  0.136364  Positive  \n",
            "<class 'pandas.core.frame.DataFrame'>\n",
            "RangeIndex: 1553 entries, 0 to 1552\n",
            "Data columns (total 5 columns):\n",
            " #   Column        Non-Null Count  Dtype  \n",
            "---  ------        --------------  -----  \n",
            " 0   id            1553 non-null   int64  \n",
            " 1   Tweet         1553 non-null   object \n",
            " 2   Subjectivity  1552 non-null   float64\n",
            " 3   Polarity      1552 non-null   float64\n",
            " 4   Target        1552 non-null   object \n",
            "dtypes: float64(2), int64(1), object(2)\n",
            "memory usage: 60.8+ KB\n",
            "None\n"
          ]
        }
      ]
    },
    {
      "cell_type": "markdown",
      "source": [
        "# **Pre-Process the Dataset**"
      ],
      "metadata": {
        "id": "uHr2-NMzsJQ1"
      }
    },
    {
      "cell_type": "code",
      "source": [
        "import pandas as pd\n",
        "import re\n",
        "\n",
        "# Load the dataset\n",
        "file_path = '/content/AstraZeneca Vaccine.csv'  # Replace with your file path\n",
        "data = pd.read_csv(file_path)\n",
        "\n",
        "# Remove missing values\n",
        "cleaned_data = data.dropna()\n",
        "\n",
        "# Define a simplified preprocessing function\n",
        "def simplified_preprocess_text(text):\n",
        "    # Remove URLs\n",
        "    text = re.sub(r\"http\\S+|www\\S+|https\\S+\", '', text, flags=re.MULTILINE)\n",
        "    # Remove punctuation, numbers, and special characters\n",
        "    text = re.sub(r\"[^a-zA-Z\\s]\", '', text)\n",
        "    # Convert to lowercase\n",
        "    text = text.lower()\n",
        "    # Remove common stop words\n",
        "    common_stop_words = ['the', 'and', 'is', 'to', 'in', 'for', 'on', 'at', 'a', 'an', 'of', 'with', 'by', 'this', 'it', 'as']\n",
        "    words = text.split()\n",
        "    words = [word for word in words if word not in common_stop_words]\n",
        "    # Join back into a single string\n",
        "    return ' '.join(words)\n",
        "\n",
        "# Apply the simplified preprocessing to the Tweet column\n",
        "cleaned_data['Cleaned_Tweet'] = cleaned_data['Tweet'].apply(simplified_preprocess_text)\n",
        "\n",
        "# Display the first few rows of the preprocessed data\n",
        "print(cleaned_data[['Tweet', 'Cleaned_Tweet']].head())"
      ],
      "metadata": {
        "colab": {
          "base_uri": "https://localhost:8080/"
        },
        "id": "A3PVGrN4sMu6",
        "outputId": "a77a1d3a-3194-4f46-f0ed-3d26f30c64b6"
      },
      "execution_count": 4,
      "outputs": [
        {
          "output_type": "stream",
          "name": "stdout",
          "text": [
            "                                               Tweet  \\\n",
            "0  Respiratory syncytial virus, or RSV, is a comm...   \n",
            "1  As pioneers in asthma, we continue to push the...   \n",
            "2  It takes innovation to transform healthcare ex...   \n",
            "3  Every day billions of people are trying to bal...   \n",
            "4  An estimated 37 million people live with chron...   \n",
            "\n",
            "                                       Cleaned_Tweet  \n",
            "0  respiratory syncytial virus or rsv common resp...  \n",
            "1  pioneers asthma we continue push boundaries sc...  \n",
            "2  takes innovation transform healthcare experien...  \n",
            "3  every day billions people are trying balance l...  \n",
            "4  estimated million people live chronic kidneydi...  \n"
          ]
        },
        {
          "output_type": "stream",
          "name": "stderr",
          "text": [
            "<ipython-input-4-209671698100>:27: SettingWithCopyWarning: \n",
            "A value is trying to be set on a copy of a slice from a DataFrame.\n",
            "Try using .loc[row_indexer,col_indexer] = value instead\n",
            "\n",
            "See the caveats in the documentation: https://pandas.pydata.org/pandas-docs/stable/user_guide/indexing.html#returning-a-view-versus-a-copy\n",
            "  cleaned_data['Cleaned_Tweet'] = cleaned_data['Tweet'].apply(simplified_preprocess_text)\n"
          ]
        }
      ]
    },
    {
      "cell_type": "markdown",
      "source": [
        "# **Building the Model**"
      ],
      "metadata": {
        "id": "8rvZmuezt0Fk"
      }
    },
    {
      "cell_type": "code",
      "source": [
        "from sklearn.feature_extraction.text import TfidfVectorizer\n",
        "from sklearn.model_selection import train_test_split\n",
        "from sklearn.linear_model import LogisticRegression\n",
        "from sklearn.metrics import classification_report, accuracy_score\n",
        "\n",
        "# Vectorize the text data using TF-IDF\n",
        "tfidf_vectorizer = TfidfVectorizer(max_features=5000)  # Limit to top 5000 features for efficiency\n",
        "X = tfidf_vectorizer.fit_transform(cleaned_data['Cleaned_Tweet'])\n",
        "\n",
        "# Target variable\n",
        "y = cleaned_data['Target']\n",
        "\n",
        "# Split the data into training and testing sets (80% train, 20% test)\n",
        "X_train, X_test, y_train, y_test = train_test_split(X, y, test_size=0.2, random_state=42, stratify=y)\n",
        "\n",
        "# Train a Logistic Regression classifier\n",
        "log_reg_model = LogisticRegression(max_iter=1000, random_state=42)\n",
        "log_reg_model.fit(X_train, y_train)\n",
        "\n",
        "# Make predictions on the test set\n",
        "y_pred = log_reg_model.predict(X_test)\n",
        "\n",
        "# Evaluate the model's performance\n",
        "accuracy = accuracy_score(y_test, y_pred)\n",
        "classification_rep = classification_report(y_test, y_pred)\n",
        "\n",
        "# Display the results\n",
        "accuracy, classification_rep"
      ],
      "metadata": {
        "colab": {
          "base_uri": "https://localhost:8080/"
        },
        "id": "MBUJeLxst6o2",
        "outputId": "b20e1f7b-487e-474f-d413-28dbe0933c80"
      },
      "execution_count": 5,
      "outputs": [
        {
          "output_type": "stream",
          "name": "stderr",
          "text": [
            "/usr/local/lib/python3.11/dist-packages/sklearn/metrics/_classification.py:1565: UndefinedMetricWarning: Precision is ill-defined and being set to 0.0 in labels with no predicted samples. Use `zero_division` parameter to control this behavior.\n",
            "  _warn_prf(average, modifier, f\"{metric.capitalize()} is\", len(result))\n",
            "/usr/local/lib/python3.11/dist-packages/sklearn/metrics/_classification.py:1565: UndefinedMetricWarning: Precision is ill-defined and being set to 0.0 in labels with no predicted samples. Use `zero_division` parameter to control this behavior.\n",
            "  _warn_prf(average, modifier, f\"{metric.capitalize()} is\", len(result))\n",
            "/usr/local/lib/python3.11/dist-packages/sklearn/metrics/_classification.py:1565: UndefinedMetricWarning: Precision is ill-defined and being set to 0.0 in labels with no predicted samples. Use `zero_division` parameter to control this behavior.\n",
            "  _warn_prf(average, modifier, f\"{metric.capitalize()} is\", len(result))\n"
          ]
        },
        {
          "output_type": "execute_result",
          "data": {
            "text/plain": [
              "(0.7041800643086816,\n",
              " '              precision    recall  f1-score   support\\n\\n    Negative       0.00      0.00      0.00        27\\n     Neutral       0.69      0.75      0.72       136\\n    Positive       0.72      0.79      0.75       148\\n\\n    accuracy                           0.70       311\\n   macro avg       0.47      0.51      0.49       311\\nweighted avg       0.64      0.70      0.67       311\\n')"
            ]
          },
          "metadata": {},
          "execution_count": 5
        }
      ]
    },
    {
      "cell_type": "markdown",
      "source": [
        "# **Results of the Model**"
      ],
      "metadata": {
        "id": "UoFIU5rGv1k5"
      }
    },
    {
      "cell_type": "markdown",
      "source": [
        "1. **Accuracy:-** The model achieved an accuracy of approximately 70.4%.\n",
        "\n",
        "2. **Classification Report**\n",
        "  *   **Negative Sentiment:** The model failed to predict any samples as Negative, resulting in a precision and recall of 0. This indicates an imbalance or insufficient representation in the training data.\n",
        "  *   **Neutral Sentiment:**\n",
        "    * Precision: 69%\n",
        "    * Recall: 75%\n",
        "    * F1-score: 72%\n",
        "  * **Positive Sentiment:**\n",
        "    * Precision: 72%\n",
        "    * Recall: 79%\n",
        "    * F1-score: 75%\n",
        "\n",
        "The macro average F1-score is lower due to the model's poor performance on the Negative sentiment class.\n",
        "\n",
        "\n"
      ],
      "metadata": {
        "id": "9fAjAxtCuNpD"
      }
    },
    {
      "cell_type": "markdown",
      "source": [
        "# **Data Visualisation**"
      ],
      "metadata": {
        "id": "IM7Ok1D-uI7o"
      }
    },
    {
      "cell_type": "code",
      "source": [
        "import seaborn as sns\n",
        "import matplotlib.pyplot as plt\n",
        "from sklearn.metrics import confusion_matrix\n",
        "\n",
        "# Compute the confusion matrix\n",
        "conf_matrix = confusion_matrix(y_test, y_pred, labels=['Negative', 'Neutral', 'Positive'])\n",
        "\n",
        "# Plot the confusion matrix as a heatmap\n",
        "plt.figure(figsize=(8, 6))\n",
        "sns.heatmap(conf_matrix, annot=True, fmt='d', cmap='Blues', xticklabels=['Negative', 'Neutral', 'Positive'], yticklabels=['Negative', 'Neutral', 'Positive'])\n",
        "plt.title('Confusion Matrix')\n",
        "plt.xlabel('Predicted Label')\n",
        "plt.ylabel('True Label')\n",
        "plt.show()\n",
        "\n",
        "# Visualize class-wise precision, recall, and F1-score\n",
        "metrics_df = pd.DataFrame.from_dict({\n",
        "    'Metric': ['Precision', 'Recall', 'F1-Score'],\n",
        "    'Negative': [0, 0, 0],  # From classification report (values were 0)\n",
        "    'Neutral': [0.69, 0.75, 0.72],\n",
        "    'Positive': [0.72, 0.79, 0.75]\n",
        "})\n",
        "\n",
        "metrics_df.set_index('Metric', inplace=True)\n",
        "metrics_df.T.plot(kind='bar', figsize=(10, 6), alpha=0.8)\n",
        "plt.title('Class-wise Metrics (Precision, Recall, F1-Score)')\n",
        "plt.xlabel('Class')\n",
        "plt.ylabel('Score')\n",
        "plt.ylim(0, 1)\n",
        "plt.legend(title='Metric')\n",
        "plt.show()"
      ],
      "metadata": {
        "colab": {
          "base_uri": "https://localhost:8080/",
          "height": 1000
        },
        "id": "If_P78gbwErx",
        "outputId": "9eb2a7e7-f24b-4629-dc1c-517217f0218a"
      },
      "execution_count": 6,
      "outputs": [
        {
          "output_type": "display_data",
          "data": {
            "text/plain": [
              "<Figure size 800x600 with 2 Axes>"
            ],
            "image/png": "[encoded data removed]"
          },
          "metadata": {}
        },
        {
          "output_type": "display_data",
          "data": {
            "text/plain": [
              "<Figure size 1000x600 with 1 Axes>"
            ],
            "image/png": "[encoded data removed]"
          },
          "metadata": {}
        }
      ]
    },
    {
      "cell_type": "markdown",
      "source": [
        "# **Data Visualization Results**"
      ],
      "metadata": {
        "id": "uDsxWaFbwKaK"
      }
    },
    {
      "cell_type": "markdown",
      "source": [
        "**Confusion Matrix:**\n",
        "*   Shows the counts of correct and incorrect predictions for each\n",
        "sentiment class.\n",
        "*   Highlights the model's difficulty in predicting Negative sentiments, as no predictions were made in that class.\n",
        "\n",
        "**Class-wise Metrics Bar Chart:**\n",
        "*   Visualizes Precision, Recall, and F1-Score for each class (Negative, Neutral, Positive).\n",
        "*   Confirms the strong performance for Neutral and Positive classes, with Negative showing no measurable performance."
      ],
      "metadata": {
        "id": "ozrPbeQFwQgJ"
      }
    }
  ]
}